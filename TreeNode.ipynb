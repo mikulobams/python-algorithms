{
 "cells": [
  {
   "cell_type": "code",
   "id": "initial_id",
   "metadata": {
    "collapsed": true,
    "ExecuteTime": {
     "end_time": "2024-11-01T18:39:34.181514Z",
     "start_time": "2024-11-01T18:39:34.178682Z"
    }
   },
   "source": [
    "\n",
    "class TreeNode:  \n",
    "    \"\"\"\n",
    "    This is a vanilla implementation of a binary search tree\n",
    "    There are no constraints\n",
    "    \"\"\"\n",
    "    def __init__(self, key):\n",
    "        self.key = key\n",
    "        self.left = None\n",
    "        self.right = None"
   ],
   "outputs": [],
   "execution_count": 26
  },
  {
   "metadata": {
    "ExecuteTime": {
     "end_time": "2024-11-01T18:39:44.325285Z",
     "start_time": "2024-11-01T18:39:44.322964Z"
    }
   },
   "cell_type": "code",
   "source": [
    "node0 = TreeNode(2)\n",
    "node1 = TreeNode(3)\n",
    "node2 = TreeNode(5)"
   ],
   "id": "2d9b7e445da3d7dd",
   "outputs": [],
   "execution_count": 27
  },
  {
   "metadata": {
    "ExecuteTime": {
     "end_time": "2024-11-01T18:39:46.731515Z",
     "start_time": "2024-11-01T18:39:46.728875Z"
    }
   },
   "cell_type": "code",
   "source": [
    "node1.left = node0\n",
    "node1.right = node2"
   ],
   "id": "1cd9968fc830ed6f",
   "outputs": [],
   "execution_count": 28
  },
  {
   "metadata": {
    "ExecuteTime": {
     "end_time": "2024-11-01T18:39:48.745304Z",
     "start_time": "2024-11-01T18:39:48.741473Z"
    }
   },
   "cell_type": "code",
   "source": [
    "tree = node1\n",
    "tree.key"
   ],
   "id": "b541fb7f8f072ef5",
   "outputs": [
    {
     "data": {
      "text/plain": [
       "3"
      ]
     },
     "execution_count": 29,
     "metadata": {},
     "output_type": "execute_result"
    }
   ],
   "execution_count": 29
  },
  {
   "metadata": {
    "ExecuteTime": {
     "end_time": "2024-11-01T18:40:08.992862Z",
     "start_time": "2024-11-01T18:40:08.989522Z"
    }
   },
   "cell_type": "code",
   "source": "tree.left.key",
   "id": "63e7ef84cf4db16",
   "outputs": [
    {
     "data": {
      "text/plain": [
       "2"
      ]
     },
     "execution_count": 32,
     "metadata": {},
     "output_type": "execute_result"
    }
   ],
   "execution_count": 32
  },
  {
   "metadata": {
    "ExecuteTime": {
     "end_time": "2024-11-01T18:39:51.950863Z",
     "start_time": "2024-11-01T18:39:51.947191Z"
    }
   },
   "cell_type": "code",
   "source": "tree.right.key",
   "id": "37ed4ca48a1b640c",
   "outputs": [
    {
     "data": {
      "text/plain": [
       "5"
      ]
     },
     "execution_count": 31,
     "metadata": {},
     "output_type": "execute_result"
    }
   ],
   "execution_count": 31
  },
  {
   "metadata": {
    "ExecuteTime": {
     "end_time": "2024-11-01T18:45:29.118610Z",
     "start_time": "2024-11-01T18:45:29.115805Z"
    }
   },
   "cell_type": "code",
   "source": "tree_tuple = ((1, 3, None), 2, ((None, 3, 4), 5, (6, 7, 8)))",
   "id": "e4dd7ff783b11f35",
   "outputs": [],
   "execution_count": 33
  },
  {
   "metadata": {
    "ExecuteTime": {
     "end_time": "2024-11-01T18:45:30.726023Z",
     "start_time": "2024-11-01T18:45:30.723280Z"
    }
   },
   "cell_type": "code",
   "source": [
    "def parse_tuple(data):\n",
    "    if isinstance(data, tuple) and len(data) == 3:\n",
    "        node = TreeNode(data[1])\n",
    "        node.left = parse_tuple(data[0])\n",
    "        node.right = parse_tuple(data[2])\n",
    "    elif data is None:\n",
    "        node = None\n",
    "    else:\n",
    "        node = TreeNode(data)\n",
    "    return node"
   ],
   "id": "c5435ada42961349",
   "outputs": [],
   "execution_count": 34
  },
  {
   "metadata": {
    "ExecuteTime": {
     "end_time": "2024-11-01T18:45:35.363383Z",
     "start_time": "2024-11-01T18:45:35.360912Z"
    }
   },
   "cell_type": "code",
   "source": "tree2 = parse_tuple(tree_tuple)",
   "id": "d0a2446266154312",
   "outputs": [],
   "execution_count": 35
  },
  {
   "metadata": {
    "ExecuteTime": {
     "end_time": "2024-11-01T18:45:40.547813Z",
     "start_time": "2024-11-01T18:45:40.543959Z"
    }
   },
   "cell_type": "code",
   "source": "tree2",
   "id": "94bb95ad41eb0ad9",
   "outputs": [
    {
     "data": {
      "text/plain": [
       "<__main__.TreeNode at 0x229035f2060>"
      ]
     },
     "execution_count": 36,
     "metadata": {},
     "output_type": "execute_result"
    }
   ],
   "execution_count": 36
  },
  {
   "metadata": {
    "ExecuteTime": {
     "end_time": "2024-11-01T18:56:14.818704Z",
     "start_time": "2024-11-01T18:56:14.816196Z"
    }
   },
   "cell_type": "code",
   "source": [
    "def traverse_in_order(node):\n",
    "    if node is None:\n",
    "        return []\n",
    "    return (traverse_in_order(node.left) + [node.key] + traverse_in_order(node.right))"
   ],
   "id": "3c3ffc5561def931",
   "outputs": [],
   "execution_count": 37
  },
  {
   "metadata": {
    "ExecuteTime": {
     "end_time": "2024-11-01T18:56:16.283247Z",
     "start_time": "2024-11-01T18:56:16.280354Z"
    }
   },
   "cell_type": "code",
   "source": [
    "def traverse_in_preorder(node):\n",
    "    if node is None:\n",
    "        return []\n",
    "    return ([node.key] + traverse_in_preorder(node.left) + traverse_in_preorder(node.right))"
   ],
   "id": "e895ab0cbebdddc3",
   "outputs": [],
   "execution_count": 38
  },
  {
   "metadata": {
    "ExecuteTime": {
     "end_time": "2024-11-01T18:56:32.459181Z",
     "start_time": "2024-11-01T18:56:32.455124Z"
    }
   },
   "cell_type": "code",
   "source": "traverse_in_preorder(tree2)",
   "id": "c3f8e2f7e71e6cc4",
   "outputs": [
    {
     "data": {
      "text/plain": [
       "[2, 3, 1, 5, 3, 4, 7, 6, 8]"
      ]
     },
     "execution_count": 39,
     "metadata": {},
     "output_type": "execute_result"
    }
   ],
   "execution_count": 39
  },
  {
   "metadata": {},
   "cell_type": "code",
   "outputs": [],
   "execution_count": null,
   "source": [
    "def traverse_in_postorder(node):\n",
    "    if node is None:\n",
    "        return []\n",
    "    return ( traverse_in_postorder(node.left) + traverse_in_postorder(node.right) + [node.key])"
   ],
   "id": "3653747700742804"
  },
  {
   "metadata": {},
   "cell_type": "code",
   "outputs": [],
   "execution_count": null,
   "source": [
    "def tree_height(node):\n",
    "    if node is None:\n",
    "        return 0\n",
    "    return 1 + max(tree_height(node.left), tree_height(node.right))"
   ],
   "id": "f27f2bda34fb1041"
  },
  {
   "metadata": {},
   "cell_type": "code",
   "outputs": [],
   "execution_count": null,
   "source": [
    "def tree_size(node):\n",
    "    if node is None:\n",
    "        return 0\n",
    "    return 1 + tree_size(node.left) + tree_size(node.right)"
   ],
   "id": "9caa39f3795d314a"
  },
  {
   "metadata": {},
   "cell_type": "code",
   "outputs": [],
   "execution_count": null,
   "source": [
    "def max_depth(root):\n",
    "    if root is None:\n",
    "        return 0\n",
    "    else:\n",
    "        left_depth = max_depth(root.left)\n",
    "        right_depth = max_depth(root.right)\n",
    "        return max(left_depth, right_depth) + 1"
   ],
   "id": "20e29d0d7cc80175"
  },
  {
   "metadata": {},
   "cell_type": "code",
   "outputs": [],
   "execution_count": null,
   "source": [
    "def min_depth(root):\n",
    "    if root is None:\n",
    "        return 0\n",
    "    if not root.left and not root.right:\n",
    "        return 1\n",
    "    if not root.left:\n",
    "        return min_depth(root.right) + 1\n",
    "    if not root.right:\n",
    "        return min_depth(root.left) + 1\n",
    "    return min(min_depth(root.left), min_depth(root.right)) + 1\n"
   ],
   "id": "40d8d6c7cdc7cc15"
  },
  {
   "metadata": {},
   "cell_type": "code",
   "outputs": [],
   "execution_count": null,
   "source": [
    "def diameter_of_binary_tree(root):\n",
    "    def depth_and_diameter(node):\n",
    "        if not node:\n",
    "            return 0, 0  # depth, diameter\n",
    "        \n",
    "        left_depth, left_diameter = depth_and_diameter(node.left)\n",
    "        right_depth, right_diameter = depth_and_diameter(node.right)\n",
    "        \n",
    "        local_diameter = left_depth + right_depth\n",
    "        current_diameter = max(left_diameter, right_diameter, local_diameter)\n",
    "        \n",
    "        return max(left_depth, right_depth) + 1, current_diameter\n",
    "    \n",
    "    return depth_and_diameter(root)[1]\n"
   ],
   "id": "a9c79d86f4e5fe79"
  },
  {
   "metadata": {},
   "cell_type": "code",
   "outputs": [],
   "execution_count": null,
   "source": [
    "def remove_none(nums):\n",
    "    return [x for x in nums if x is not None]"
   ],
   "id": "39e28aaa04167a3f"
  },
  {
   "metadata": {},
   "cell_type": "code",
   "outputs": [],
   "execution_count": null,
   "source": [
    "def is_bst(node):\n",
    "    if node is None:\n",
    "        return True, None, None\n",
    "    \n",
    "    is_bst_l, min_l, max_l = is_bst(node.left)\n",
    "    is_bst_r, min_r, max_r = is_bst(node.right)\n",
    "    \n",
    "    is_bst_node = (\n",
    "        is_bst_l and is_bst_r and (max_l is None or node.key > max_l) and\n",
    "        (min_r is None or node.key < min_r)\n",
    "    )\n",
    "    \n",
    "    min_key = min(remove_none([min_l, node.key, min_r]))\n",
    "    max_key = max(remove_none([max_l, node.key, max_r]))\n",
    "    \n",
    "    return is_bst_node, min_key, max_key"
   ],
   "id": "83e92320af7e4b16"
  },
  {
   "metadata": {},
   "cell_type": "code",
   "outputs": [],
   "execution_count": null,
   "source": [
    "class BSTNode():\n",
    "    \"\"\"\n",
    "    BInary Search Tree \n",
    "    1. node on left is less than root\n",
    "    2. node on right is greater than root\n",
    "    3. all nodes obey the above\n",
    "    \"\"\"\n",
    "    def __init__(self, key, value=None):\n",
    "        self.key = key\n",
    "        self.value = value\n",
    "        self.left = None\n",
    "        self.right = None\n",
    "        self.parent = None"
   ],
   "id": "7876686ba6d7ec89"
  },
  {
   "metadata": {},
   "cell_type": "code",
   "outputs": [],
   "execution_count": null,
   "source": [
    "def insert(node, key, value):\n",
    "    if node is None:\n",
    "        node = BSTNode(key, value)\n",
    "    elif key < node.key:\n",
    "        node.left = insert(node.left, key, value)\n",
    "        node.left.parent = node\n",
    "        \n",
    "    elif key > node.key:\n",
    "        node.right = insert(node.right, key, value)\n",
    "        node.right.parent = node\n",
    "    return node"
   ],
   "id": "78de9a593974fde4"
  },
  {
   "metadata": {},
   "cell_type": "code",
   "outputs": [],
   "execution_count": null,
   "source": [
    "def find(node, key):\n",
    "    if node is None:\n",
    "        return None\n",
    "    if key == node.key:\n",
    "        return node\n",
    "    if key < node.key:\n",
    "        return find(node.left, key)\n",
    "    if key > node.key:\n",
    "        return find(node.right, key)"
   ],
   "id": "fc6cd09d5f56fbb0"
  },
  {
   "metadata": {},
   "cell_type": "code",
   "outputs": [],
   "execution_count": null,
   "source": [
    "def update (node, key, value):\n",
    "    target = find(node, key)\n",
    "    if target is None:\n",
    "        target.value = value"
   ],
   "id": "efd99cecf5b1969b"
  },
  {
   "metadata": {},
   "cell_type": "code",
   "outputs": [],
   "execution_count": null,
   "source": [
    "def list_all(node):\n",
    "    if node is None:\n",
    "        return []\n",
    "    return list_all(node.left) + [(node.key, node.value)] + list_all(node.right)"
   ],
   "id": "60f56e9937378bf0"
  },
  {
   "metadata": {},
   "cell_type": "code",
   "outputs": [],
   "execution_count": null,
   "source": [
    "def is_balanced(node):\n",
    "    if node is None:\n",
    "        return True, 0\n",
    "    balanced_l, height_l = is_balanced(node.left)\n",
    "    balanced_r, height_r = is_balanced(node.right)\n",
    "    balanced = balanced_l and balanced_r and abs(height_l - height_r) <= 1\n",
    "    height = 1 + max(height_l, height_r)\n",
    "    return balanced, height"
   ],
   "id": "1712d18e67c7312b"
  },
  {
   "metadata": {},
   "cell_type": "code",
   "outputs": [],
   "execution_count": null,
   "source": [
    "def make_balanced_bst(data, lo=0, hi=None, parent=None):\n",
    "    if hi is None:\n",
    "        hi = len(data) -1\n",
    "    if lo > hi:\n",
    "        return None\n",
    "    mid = (lo + hi) // 2\n",
    "    key, value = data[mid]\n",
    "    \n",
    "    root = BSTNode(key, value)\n",
    "    root.parent = parent\n",
    "    root.left = make_balanced_bst(data, lo, mid-1, root)\n",
    "    root.right = make_balanced_bst(data, mid+1, hi, root)\n",
    "    return root"
   ],
   "id": "f0e46946d635d1bf"
  },
  {
   "metadata": {},
   "cell_type": "code",
   "outputs": [],
   "execution_count": null,
   "source": [
    "def balance_bst(node):\n",
    "    \"\"\"\n",
    "    Make an unbalanced binary search tree to be balanced\n",
    "    :param node: \n",
    "    :return: node\n",
    "    \"\"\"\n",
    "    return make_balanced_bst(list_all(node))"
   ],
   "id": "9568bb7a223bce9b"
  },
  {
   "metadata": {},
   "cell_type": "code",
   "outputs": [],
   "execution_count": null,
   "source": [
    "class TreeMap():\n",
    "    def __init__(self):\n",
    "        self.root = None\n",
    "        \n",
    "    def __setitem__(self, key, value):\n",
    "        node = find(self.root, key)\n",
    "        if not node:\n",
    "            self.root = insert(self.root, key, value)\n",
    "            self.root = balance_bst(self.root)\n",
    "        else:\n",
    "            update(self.root, key, value)\n",
    "            \n",
    "    def __getitem__(self, key):\n",
    "        node = find(self.root, key)\n",
    "        return node.value if node else None\n",
    "    \n",
    "    def __iter__(self):\n",
    "        return (x for x in list_all(self.root))\n",
    "    \n",
    "    def __len__(self):\n",
    "        return tree_size(self.root)"
   ],
   "id": "331e8b089ba4cb7"
  }
 ],
 "metadata": {
  "kernelspec": {
   "display_name": "Python 3",
   "language": "python",
   "name": "python3"
  },
  "language_info": {
   "codemirror_mode": {
    "name": "ipython",
    "version": 2
   },
   "file_extension": ".py",
   "mimetype": "text/x-python",
   "name": "python",
   "nbconvert_exporter": "python",
   "pygments_lexer": "ipython2",
   "version": "2.7.6"
  }
 },
 "nbformat": 4,
 "nbformat_minor": 5
}
