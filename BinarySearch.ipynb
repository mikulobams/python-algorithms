{
 "cells": [
  {
   "cell_type": "code",
   "id": "initial_id",
   "metadata": {
    "collapsed": true,
    "ExecuteTime": {
     "end_time": "2024-11-01T19:02:08.265335Z",
     "start_time": "2024-11-01T19:02:08.231970Z"
    }
   },
   "source": [
    "def binary_search(arr, target):\n",
    "    low = 0\n",
    "    high = len(arr) - 1\n",
    "\n",
    "    while low <= high:\n",
    "        mid = (low + high) // 2\n",
    "        guess = arr[mid]\n",
    "\n",
    "        if guess == target:\n",
    "            return mid\n",
    "        if guess > target:\n",
    "            high = mid - 1\n",
    "        else:\n",
    "            low = mid + 1\n",
    "\n",
    "    return -1"
   ],
   "outputs": [],
   "execution_count": 1
  },
  {
   "metadata": {
    "ExecuteTime": {
     "end_time": "2024-11-01T19:02:11.856588Z",
     "start_time": "2024-11-01T19:02:11.854275Z"
    }
   },
   "cell_type": "code",
   "source": [
    "# Example usage:\n",
    "arr = [1, 3, 5, 7, 9, 11, 13, 15]\n",
    "target = 7"
   ],
   "id": "51da5d1de3a7cc1d",
   "outputs": [],
   "execution_count": 2
  },
  {
   "metadata": {
    "ExecuteTime": {
     "end_time": "2024-11-01T19:02:13.162027Z",
     "start_time": "2024-11-01T19:02:13.158281Z"
    }
   },
   "cell_type": "code",
   "source": [
    "result = binary_search(arr, target)\n",
    "print(f\"Element found at index: {result}\" if result != -1 else \"Element not found in array.\")"
   ],
   "id": "9bd31c1fb993bc2d",
   "outputs": [
    {
     "name": "stdout",
     "output_type": "stream",
     "text": [
      "Element found at index: 3\n"
     ]
    }
   ],
   "execution_count": 3
  }
 ],
 "metadata": {
  "kernelspec": {
   "display_name": "Python 3",
   "language": "python",
   "name": "python3"
  },
  "language_info": {
   "codemirror_mode": {
    "name": "ipython",
    "version": 2
   },
   "file_extension": ".py",
   "mimetype": "text/x-python",
   "name": "python",
   "nbconvert_exporter": "python",
   "pygments_lexer": "ipython2",
   "version": "2.7.6"
  }
 },
 "nbformat": 4,
 "nbformat_minor": 5
}
