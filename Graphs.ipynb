{
 "cells": [
  {
   "metadata": {
    "ExecuteTime": {
     "end_time": "2024-11-02T12:32:10.041427Z",
     "start_time": "2024-11-02T12:32:10.020966Z"
    }
   },
   "cell_type": "code",
   "source": [
    "from collections import deque\n",
    "\n",
    "num_nodes = 5\n",
    "edges = [(0,1),(0,4),(1,2), (1,3), (1,4), (2,3), (3,4)]"
   ],
   "id": "4f752c686cd5ee47",
   "outputs": [],
   "execution_count": 1
  },
  {
   "metadata": {
    "collapsed": true,
    "ExecuteTime": {
     "end_time": "2024-11-02T12:34:57.991496Z",
     "start_time": "2024-11-02T12:34:57.987671Z"
    }
   },
   "cell_type": "code",
   "source": [
    "class Graph:\n",
    "    \"\"\"\n",
    "    Simple class to represent a graph\n",
    "    \"\"\"\n",
    "    def __init__(self, num_nodes, edges):\n",
    "        self.num_nodes = num_nodes\n",
    "        self.data = [[] for _ in range(self.num_nodes)]\n",
    "        for n1, n2 in edges:\n",
    "            #Insert into the right list\n",
    "            self.data[n1].append(n2)\n",
    "            self.data[n2].append(n1)\n",
    "            \n",
    "    def __repr__(self):\n",
    "        return  \"\\n\".join([f\"{node}: {neighbours}\" for node, neighbours in enumerate(self.data)])\n",
    "    def __str__(self):\n",
    "        return self.__repr__()\n",
    "        "
   ],
   "id": "initial_id",
   "outputs": [],
   "execution_count": 4
  },
  {
   "metadata": {
    "ExecuteTime": {
     "end_time": "2024-11-02T12:34:59.736345Z",
     "start_time": "2024-11-02T12:34:59.731821Z"
    }
   },
   "cell_type": "code",
   "source": [
    "graph1 = Graph(num_nodes, edges)\n",
    "graph1"
   ],
   "id": "172b0e8c10f36c4c",
   "outputs": [
    {
     "data": {
      "text/plain": [
       "0: [1, 4]\n",
       "1: [0, 2, 3, 4]\n",
       "2: [1, 3]\n",
       "3: [1, 2, 4]\n",
       "4: [0, 1, 3]"
      ]
     },
     "execution_count": 5,
     "metadata": {},
     "output_type": "execute_result"
    }
   ],
   "execution_count": 5
  },
  {
   "metadata": {},
   "cell_type": "code",
   "outputs": [],
   "execution_count": null,
   "source": [
    "def bfs(graph, root):\n",
    "    \"\"\"\n",
    "    Breadth First Search\n",
    "    :param graph: The graph to be searched\n",
    "    :param root: The node to start searching from\n",
    "    :return: The reachable node, the distance and the parents\n",
    "    \"\"\"\n",
    "    queue = []\n",
    "    discovered = [False] * len(graph.data)\n",
    "    distance = [None] * len(graph.data)\n",
    "    parent = [None] * len(graph.data)\n",
    "    \n",
    "    discovered[root] = True\n",
    "    queue.append(root)\n",
    "    distance[root] = 0\n",
    "    idx = 0\n",
    "    \n",
    "    while idx < len(queue):\n",
    "        #dequeue\n",
    "        current = queue[idx]\n",
    "        idx += 1\n",
    "        \n",
    "        #check all edges of current\n",
    "        for neighbour in graph.data[current]:\n",
    "            if not discovered[neighbour]:\n",
    "                distance[neighbour] = distance[current] + 1\n",
    "                parent[neighbour] = current\n",
    "                discovered[neighbour] = True\n",
    "                queue.append(neighbour)\n",
    "    return queue, distance, parent"
   ],
   "id": "f9bc1a4e2e5084d2"
  },
  {
   "metadata": {},
   "cell_type": "code",
   "outputs": [],
   "execution_count": null,
   "source": [
    "def dfs(graph, root):\n",
    "    \"\"\"\n",
    "    Depth First Search\n",
    "    :param graph: The graph to be searched\n",
    "    :param root: The node to start searching from\n",
    "    :return: The reachable node, the distance and the parents\n",
    "    \"\"\"\n",
    "    stack = []\n",
    "    discovered = [False] * len(graph.data)\n",
    "    result = []\n",
    "    \n",
    "    stack.append(root)\n",
    "    \n",
    "    while len(stack) > 0:\n",
    "        current = stack.pop()\n",
    "        if not discovered[current]:\n",
    "            discovered[current] = True\n",
    "            result.append(current)\n",
    "            for node in graph.data[current]:\n",
    "                if not discovered[node]:\n",
    "                    stack.append(node)\n",
    "                \n",
    "    return result"
   ],
   "id": "9bc49709ca82827b"
  },
  {
   "metadata": {},
   "cell_type": "code",
   "outputs": [],
   "execution_count": null,
   "source": [
    "class Graph:\n",
    "    \"\"\"\n",
    "    Simple class to represent a directed and or weighted graph\n",
    "    \"\"\"\n",
    "    def __init__(self, num_nodes, edges, directed=False, weighted=False):\n",
    "        self.num_nodes = num_nodes\n",
    "        self.directed = directed\n",
    "        self.weighted = weighted\n",
    "        self.data = [[] for _ in range(self.num_nodes)]\n",
    "        self.weight = [0 for _ in range(self.num_nodes)]\n",
    "        for edge in edges:\n",
    "            if self.weighted:\n",
    "                #include weights\n",
    "                node1, node2, weight = edges\n",
    "                self.data[node1].append(node2)\n",
    "                self.weight[node1].append(weight)\n",
    "                if not directed:\n",
    "                    self.data[node2].append(node1)\n",
    "                    self.weight[node2].append(weight)\n",
    "            else:\n",
    "                #work without weights\n",
    "                node1, node2 = edge\n",
    "                self.data[node1].append(node2)\n",
    "                if not directed:\n",
    "                    self.data[node2].append(node1)\n",
    "                    \n",
    "    def __repr__(self):\n",
    "        result = \"\"\n",
    "        if self.weighted:\n",
    "            for i, (nodes, weights) in enumerate(zip(self.data, self.weight)):\n",
    "                result += f\"{i}: {list(zip(nodes, weights))}\\n\"\n",
    "        else:\n",
    "            for i, nodes, weights in enumerate(self.data):\n",
    "                result += f\"{i}: {nodes}\"\n",
    "        return  result\n",
    "        "
   ],
   "id": "17358b8080718fba"
  }
 ],
 "metadata": {
  "kernelspec": {
   "display_name": "Python 3",
   "language": "python",
   "name": "python3"
  },
  "language_info": {
   "codemirror_mode": {
    "name": "ipython",
    "version": 2
   },
   "file_extension": ".py",
   "mimetype": "text/x-python",
   "name": "python",
   "nbconvert_exporter": "python",
   "pygments_lexer": "ipython2",
   "version": "2.7.6"
  }
 },
 "nbformat": 4,
 "nbformat_minor": 5
}
