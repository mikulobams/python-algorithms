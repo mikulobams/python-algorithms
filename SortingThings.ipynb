{
 "cells": [
  {
   "metadata": {
    "ExecuteTime": {
     "end_time": "2024-11-02T09:53:28.311965Z",
     "start_time": "2024-11-02T09:53:28.306680Z"
    }
   },
   "cell_type": "code",
   "source": [
    "import random\n",
    "\n",
    "from babel.localedata import merge\n",
    "\n",
    "test = list(range(10))\n",
    "random.shuffle(test)\n",
    "test"
   ],
   "id": "e293433e96e0111f",
   "outputs": [
    {
     "data": {
      "text/plain": [
       "[9, 7, 4, 2, 6, 8, 5, 3, 1, 0]"
      ]
     },
     "execution_count": 23,
     "metadata": {},
     "output_type": "execute_result"
    }
   ],
   "execution_count": 23
  },
  {
   "metadata": {
    "collapsed": true,
    "ExecuteTime": {
     "end_time": "2024-11-02T09:53:31.298969Z",
     "start_time": "2024-11-02T09:53:31.295822Z"
    }
   },
   "cell_type": "code",
   "source": [
    "def bubble_sort(nums):\n",
    "    # Create a copu of the list so as not to mutate the original list\n",
    "    nums = list(nums)\n",
    "    \n",
    "    for i in range(len(nums)- 1):\n",
    "        for j in range(len(nums)-i-1):\n",
    "            if nums[j] > nums[j + 1]:\n",
    "                nums[j], nums[j + 1] = nums[j + 1], nums[j]\n",
    "    return nums"
   ],
   "id": "initial_id",
   "outputs": [],
   "execution_count": 24
  },
  {
   "metadata": {
    "ExecuteTime": {
     "end_time": "2024-11-02T09:58:01.226395Z",
     "start_time": "2024-11-02T09:53:35.757849Z"
    }
   },
   "cell_type": "code",
   "source": [
    "result = bubble_sort(test)\n",
    "result"
   ],
   "id": "5f2b78b6b36dfaef",
   "outputs": [
    {
     "data": {
      "text/plain": [
       "[0, 1, 2, 3, 4, 5, 6, 7, 8, 9]"
      ]
     },
     "execution_count": 25,
     "metadata": {},
     "output_type": "execute_result"
    }
   ],
   "execution_count": 25
  },
  {
   "metadata": {},
   "cell_type": "code",
   "outputs": [],
   "execution_count": null,
   "source": [
    "def insertion_sort(nums):\n",
    "    # Create a copu of the list so as not to mutate the original list\n",
    "    nums = list(nums)\n",
    "    for i in range(1, len(nums)):\n",
    "        key = nums[i]\n",
    "        j = i - 1\n",
    "        \n",
    "        while j >= 0 and key < nums[j]:\n",
    "            nums[j + 1] = nums[j]\n",
    "            j -= 1\n",
    "        \n",
    "        nums[j + 1] = key\n",
    "    return nums"
   ],
   "id": "9b060939f5aa4ddf"
  },
  {
   "metadata": {},
   "cell_type": "code",
   "outputs": [],
   "execution_count": null,
   "source": [
    "def merge(nums1, nums2):\n",
    "    #List to store the results\n",
    "    merged = []\n",
    "    #Indices for iteration\n",
    "    i, j = 0, 0\n",
    "    \n",
    "    #Loop over the two lists\n",
    "    while i < len(nums1) and j < len(nums2):\n",
    "        #include the smaller element in the result and move to the next element\n",
    "        if nums1[i] < nums2[j]:\n",
    "            merged.append(nums1[i])\n",
    "            i += 1\n",
    "        else:\n",
    "            merged.append(nums2[j])\n",
    "            \n",
    "    #get the remaining pars\n",
    "    num1_tail = nums1[i:]\n",
    "    num2_tail = nums2[j:]\n",
    "    return merged, num1_tail, num2_tail"
   ],
   "id": "9d39883c52315bd3"
  },
  {
   "metadata": {},
   "cell_type": "code",
   "outputs": [],
   "execution_count": null,
   "source": [
    "def merge_sort(nums):\n",
    "    \"\"\"\n",
    "    Divide and conquer\n",
    "    :param nums: List\n",
    "    :return: list\n",
    "    \"\"\"\n",
    "    #Terminating condition\n",
    "    if len(nums) <= 1:\n",
    "        return nums\n",
    "    #Get the midpoint\n",
    "    mid = len(nums) // 2\n",
    "    \n",
    "    #Split the list into two halves\n",
    "    left = nums[:mid]\n",
    "    right = nums[mid:]\n",
    "    \n",
    "    #Solve the problem for each half recursively\n",
    "    left_sorted, right_sorted = merge_sort(left), merge_sort(right)\n",
    "    \n",
    "    #Combine the results of the two halves\n",
    "    sorted_nums = merge(left_sorted, right_sorted)\n",
    "    return sorted_nums"
   ],
   "id": "664167c1422864d0"
  },
  {
   "metadata": {},
   "cell_type": "code",
   "outputs": [],
   "execution_count": null,
   "source": [
    "def partition(nums, start=0, end=None):\n",
    "    if end is None:\n",
    "        end = len(nums) - 1\n",
    "    \n",
    "    #Initialize right and left pointers\n",
    "    l, r = start, end -1\n",
    "    \n",
    "    #itereate while they're apart\n",
    "    while r > l:\n",
    "        #increment left pointer if number is less or equal to pivot\n",
    "        if nums[l] <= nums[end]:\n",
    "            l += 1\n",
    "            \n",
    "        #decrement right pointer if number is greater than pivot\n",
    "        elif nums[r] > nums[end]:\n",
    "            r -= 1\n",
    "        else:\n",
    "            nums[l], nums[r] = nums[r], nums[l]\n",
    "            \n",
    "    #place the pivot between the two parts\n",
    "    if nums[l] > nums[end]:\n",
    "        nums[l], nums[end] = nums[end], nums[l]\n",
    "        return l\n",
    "    else:\n",
    "        return end"
   ],
   "id": "cb676f07690191df"
  },
  {
   "metadata": {},
   "cell_type": "code",
   "outputs": [],
   "execution_count": null,
   "source": [
    "def quick_sort(nums, start=0, end=None):\n",
    "    if end is None:\n",
    "        # Create a copu of the list so as not to mutate the original list\n",
    "        nums = list(nums)\n",
    "        end = len(nums) -1\n",
    "        \n",
    "    if start < end:\n",
    "        pivot = partition(nums, start, end)\n",
    "        quick_sort(nums, start, pivot - 1)\n",
    "        quick_sort(nums, pivot + 1, end)\n",
    "        \n",
    "    return nums"
   ],
   "id": "f4ae0b358f5fd4d1"
  }
 ],
 "metadata": {
  "kernelspec": {
   "display_name": "Python 3",
   "language": "python",
   "name": "python3"
  },
  "language_info": {
   "codemirror_mode": {
    "name": "ipython",
    "version": 2
   },
   "file_extension": ".py",
   "mimetype": "text/x-python",
   "name": "python",
   "nbconvert_exporter": "python",
   "pygments_lexer": "ipython2",
   "version": "2.7.6"
  }
 },
 "nbformat": 4,
 "nbformat_minor": 5
}
